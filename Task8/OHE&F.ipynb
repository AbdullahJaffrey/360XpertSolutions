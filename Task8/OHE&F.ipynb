{
 "cells": [
  {
   "cell_type": "markdown",
   "id": "f9b5632d",
   "metadata": {},
   "source": [
    "# Task 01:"
   ]
  },
  {
   "cell_type": "markdown",
   "id": "f882c376",
   "metadata": {},
   "source": [
    "Given a set of documents, how can you create a binary representation where each word is represented as a binary feature (1 for presence, 0 for absence)?\n",
    "\n",
    "Question: Write a Python script to perform One-Hot Encoding on the following documents:\n",
    "\n",
    "        \"I love programming in Python.\"\n",
    "        \"Python programming is fun.\"\n",
    "        \"I love learning new languages.\"\n",
    "\n",
    "Display the result in a tabular format with rows representing documents and columns representing words.\n"
   ]
  },
  {
   "cell_type": "code",
   "execution_count": 1,
   "id": "bf46756f",
   "metadata": {},
   "outputs": [],
   "source": [
    "documents = [\n",
    "    \n",
    "    \"I love programming in Python.\",\n",
    "    \"Python programming is fun.\",\n",
    "    \"I love learning new languages.\"\n",
    "    \n",
    "]"
   ]
  },
  {
   "cell_type": "code",
   "execution_count": 2,
   "id": "abd7e778",
   "metadata": {},
   "outputs": [],
   "source": [
    "import pandas as pd"
   ]
  },
  {
   "cell_type": "code",
   "execution_count": 3,
   "id": "88fa1726",
   "metadata": {},
   "outputs": [],
   "source": [
    "from sklearn.feature_extraction.text import CountVectorizer"
   ]
  },
  {
   "cell_type": "code",
   "execution_count": 4,
   "id": "efab19a9",
   "metadata": {},
   "outputs": [],
   "source": [
    "CV = CountVectorizer()"
   ]
  },
  {
   "cell_type": "code",
   "execution_count": 5,
   "id": "e86cce99",
   "metadata": {},
   "outputs": [],
   "source": [
    "X = CV.fit_transform(documents)"
   ]
  },
  {
   "cell_type": "code",
   "execution_count": 6,
   "id": "15e338bb",
   "metadata": {},
   "outputs": [],
   "source": [
    "encoded_data = pd.DataFrame(X.toarray(), columns=CV.get_feature_names_out()) "
   ]
  },
  {
   "cell_type": "code",
   "execution_count": 7,
   "id": "9a50912f",
   "metadata": {},
   "outputs": [],
   "source": [
    "encoded_data['id'] = list(range(len(encoded_data)))"
   ]
  },
  {
   "cell_type": "code",
   "execution_count": 8,
   "id": "d983f38f",
   "metadata": {},
   "outputs": [
    {
     "data": {
      "text/html": [
       "<div>\n",
       "<style scoped>\n",
       "    .dataframe tbody tr th:only-of-type {\n",
       "        vertical-align: middle;\n",
       "    }\n",
       "\n",
       "    .dataframe tbody tr th {\n",
       "        vertical-align: top;\n",
       "    }\n",
       "\n",
       "    .dataframe thead th {\n",
       "        text-align: right;\n",
       "    }\n",
       "</style>\n",
       "<table border=\"1\" class=\"dataframe\">\n",
       "  <thead>\n",
       "    <tr style=\"text-align: right;\">\n",
       "      <th></th>\n",
       "      <th>fun</th>\n",
       "      <th>in</th>\n",
       "      <th>is</th>\n",
       "      <th>languages</th>\n",
       "      <th>learning</th>\n",
       "      <th>love</th>\n",
       "      <th>new</th>\n",
       "      <th>programming</th>\n",
       "      <th>python</th>\n",
       "      <th>id</th>\n",
       "    </tr>\n",
       "  </thead>\n",
       "  <tbody>\n",
       "    <tr>\n",
       "      <th>0</th>\n",
       "      <td>0</td>\n",
       "      <td>1</td>\n",
       "      <td>0</td>\n",
       "      <td>0</td>\n",
       "      <td>0</td>\n",
       "      <td>1</td>\n",
       "      <td>0</td>\n",
       "      <td>1</td>\n",
       "      <td>1</td>\n",
       "      <td>0</td>\n",
       "    </tr>\n",
       "    <tr>\n",
       "      <th>1</th>\n",
       "      <td>1</td>\n",
       "      <td>0</td>\n",
       "      <td>1</td>\n",
       "      <td>0</td>\n",
       "      <td>0</td>\n",
       "      <td>0</td>\n",
       "      <td>0</td>\n",
       "      <td>1</td>\n",
       "      <td>1</td>\n",
       "      <td>1</td>\n",
       "    </tr>\n",
       "    <tr>\n",
       "      <th>2</th>\n",
       "      <td>0</td>\n",
       "      <td>0</td>\n",
       "      <td>0</td>\n",
       "      <td>1</td>\n",
       "      <td>1</td>\n",
       "      <td>1</td>\n",
       "      <td>1</td>\n",
       "      <td>0</td>\n",
       "      <td>0</td>\n",
       "      <td>2</td>\n",
       "    </tr>\n",
       "  </tbody>\n",
       "</table>\n",
       "</div>"
      ],
      "text/plain": [
       "   fun  in  is  languages  learning  love  new  programming  python  id\n",
       "0    0   1   0          0         0     1    0            1       1   0\n",
       "1    1   0   1          0         0     0    0            1       1   1\n",
       "2    0   0   0          1         1     1    1            0       0   2"
      ]
     },
     "execution_count": 8,
     "metadata": {},
     "output_type": "execute_result"
    }
   ],
   "source": [
    "encoded_data"
   ]
  },
  {
   "cell_type": "code",
   "execution_count": 9,
   "id": "5999de87",
   "metadata": {},
   "outputs": [],
   "source": [
    "docs = pd.DataFrame(documents)"
   ]
  },
  {
   "cell_type": "code",
   "execution_count": 10,
   "id": "c0a9a565",
   "metadata": {},
   "outputs": [],
   "source": [
    "docs['doc_id'] = list(range(len(docs)))"
   ]
  },
  {
   "cell_type": "code",
   "execution_count": 11,
   "id": "67602cb3",
   "metadata": {},
   "outputs": [],
   "source": [
    "docs.columns = ['Document', 'id']"
   ]
  },
  {
   "cell_type": "code",
   "execution_count": 12,
   "id": "01f3472f",
   "metadata": {},
   "outputs": [],
   "source": [
    "df = docs.merge(encoded_data, on='id', how='inner')"
   ]
  },
  {
   "cell_type": "code",
   "execution_count": 13,
   "id": "d304f9e8",
   "metadata": {},
   "outputs": [
    {
     "data": {
      "text/html": [
       "<div>\n",
       "<style scoped>\n",
       "    .dataframe tbody tr th:only-of-type {\n",
       "        vertical-align: middle;\n",
       "    }\n",
       "\n",
       "    .dataframe tbody tr th {\n",
       "        vertical-align: top;\n",
       "    }\n",
       "\n",
       "    .dataframe thead th {\n",
       "        text-align: right;\n",
       "    }\n",
       "</style>\n",
       "<table border=\"1\" class=\"dataframe\">\n",
       "  <thead>\n",
       "    <tr style=\"text-align: right;\">\n",
       "      <th></th>\n",
       "      <th>Document</th>\n",
       "      <th>id</th>\n",
       "      <th>fun</th>\n",
       "      <th>in</th>\n",
       "      <th>is</th>\n",
       "      <th>languages</th>\n",
       "      <th>learning</th>\n",
       "      <th>love</th>\n",
       "      <th>new</th>\n",
       "      <th>programming</th>\n",
       "      <th>python</th>\n",
       "    </tr>\n",
       "  </thead>\n",
       "  <tbody>\n",
       "    <tr>\n",
       "      <th>0</th>\n",
       "      <td>I love programming in Python.</td>\n",
       "      <td>0</td>\n",
       "      <td>0</td>\n",
       "      <td>1</td>\n",
       "      <td>0</td>\n",
       "      <td>0</td>\n",
       "      <td>0</td>\n",
       "      <td>1</td>\n",
       "      <td>0</td>\n",
       "      <td>1</td>\n",
       "      <td>1</td>\n",
       "    </tr>\n",
       "    <tr>\n",
       "      <th>1</th>\n",
       "      <td>Python programming is fun.</td>\n",
       "      <td>1</td>\n",
       "      <td>1</td>\n",
       "      <td>0</td>\n",
       "      <td>1</td>\n",
       "      <td>0</td>\n",
       "      <td>0</td>\n",
       "      <td>0</td>\n",
       "      <td>0</td>\n",
       "      <td>1</td>\n",
       "      <td>1</td>\n",
       "    </tr>\n",
       "    <tr>\n",
       "      <th>2</th>\n",
       "      <td>I love learning new languages.</td>\n",
       "      <td>2</td>\n",
       "      <td>0</td>\n",
       "      <td>0</td>\n",
       "      <td>0</td>\n",
       "      <td>1</td>\n",
       "      <td>1</td>\n",
       "      <td>1</td>\n",
       "      <td>1</td>\n",
       "      <td>0</td>\n",
       "      <td>0</td>\n",
       "    </tr>\n",
       "  </tbody>\n",
       "</table>\n",
       "</div>"
      ],
      "text/plain": [
       "                         Document  id  fun  in  is  languages  learning  love  \\\n",
       "0   I love programming in Python.   0    0   1   0          0         0     1   \n",
       "1      Python programming is fun.   1    1   0   1          0         0     0   \n",
       "2  I love learning new languages.   2    0   0   0          1         1     1   \n",
       "\n",
       "   new  programming  python  \n",
       "0    0            1       1  \n",
       "1    0            1       1  \n",
       "2    1            0       0  "
      ]
     },
     "execution_count": 13,
     "metadata": {},
     "output_type": "execute_result"
    }
   ],
   "source": [
    "df.head(5)"
   ]
  },
  {
   "cell_type": "markdown",
   "id": "f6e39392",
   "metadata": {},
   "source": [
    "# Task 02:"
   ]
  },
  {
   "cell_type": "markdown",
   "id": "5030ab0a",
   "metadata": {},
   "source": [
    "Given a set of documents, create a frequency-based representation where each word is represented by its count in the document. Analyze the frequency of words that appear more than once.\n",
    "\n",
    "Question: Write a Python script to perform Bag of Words with frequency counting on the following\n",
    "documents:\n",
    "\n",
    "    \"Data science is fun. Data science involves statistics and coding.\"\n",
    "    \"Coding is an essential skill for data science.\"\n",
    "    \"Statistics and data analysis are crucial for data science.\"\n",
    "\n",
    "Display the result in a tabular format showing the frequency of each word in each document. Make sure to highlight words that appear more than once within each document and across documents."
   ]
  },
  {
   "cell_type": "code",
   "execution_count": 14,
   "id": "8542038a",
   "metadata": {},
   "outputs": [],
   "source": [
    "document = [\n",
    "    \n",
    "    \"Data science is fun. Data science involves statistics and coding.\",\n",
    "    \"Coding is an essential skill for data science.\",\n",
    "    \"Statistics and data analysis are crucial for data science.\"\n",
    "    \n",
    "]"
   ]
  },
  {
   "cell_type": "code",
   "execution_count": 15,
   "id": "5b0c16e5",
   "metadata": {},
   "outputs": [],
   "source": [
    "X = CV.fit_transform(document)"
   ]
  },
  {
   "cell_type": "code",
   "execution_count": 16,
   "id": "ff886c58",
   "metadata": {},
   "outputs": [],
   "source": [
    "encoded_data = pd.DataFrame(X.toarray(), columns=CV.get_feature_names_out())"
   ]
  },
  {
   "cell_type": "code",
   "execution_count": 17,
   "id": "2c62120a",
   "metadata": {},
   "outputs": [
    {
     "data": {
      "text/html": [
       "<div>\n",
       "<style scoped>\n",
       "    .dataframe tbody tr th:only-of-type {\n",
       "        vertical-align: middle;\n",
       "    }\n",
       "\n",
       "    .dataframe tbody tr th {\n",
       "        vertical-align: top;\n",
       "    }\n",
       "\n",
       "    .dataframe thead th {\n",
       "        text-align: right;\n",
       "    }\n",
       "</style>\n",
       "<table border=\"1\" class=\"dataframe\">\n",
       "  <thead>\n",
       "    <tr style=\"text-align: right;\">\n",
       "      <th></th>\n",
       "      <th>an</th>\n",
       "      <th>analysis</th>\n",
       "      <th>and</th>\n",
       "      <th>are</th>\n",
       "      <th>coding</th>\n",
       "      <th>crucial</th>\n",
       "      <th>data</th>\n",
       "      <th>essential</th>\n",
       "      <th>for</th>\n",
       "      <th>fun</th>\n",
       "      <th>involves</th>\n",
       "      <th>is</th>\n",
       "      <th>science</th>\n",
       "      <th>skill</th>\n",
       "      <th>statistics</th>\n",
       "    </tr>\n",
       "  </thead>\n",
       "  <tbody>\n",
       "    <tr>\n",
       "      <th>0</th>\n",
       "      <td>0</td>\n",
       "      <td>0</td>\n",
       "      <td>1</td>\n",
       "      <td>0</td>\n",
       "      <td>1</td>\n",
       "      <td>0</td>\n",
       "      <td>2</td>\n",
       "      <td>0</td>\n",
       "      <td>0</td>\n",
       "      <td>1</td>\n",
       "      <td>1</td>\n",
       "      <td>1</td>\n",
       "      <td>2</td>\n",
       "      <td>0</td>\n",
       "      <td>1</td>\n",
       "    </tr>\n",
       "    <tr>\n",
       "      <th>1</th>\n",
       "      <td>1</td>\n",
       "      <td>0</td>\n",
       "      <td>0</td>\n",
       "      <td>0</td>\n",
       "      <td>1</td>\n",
       "      <td>0</td>\n",
       "      <td>1</td>\n",
       "      <td>1</td>\n",
       "      <td>1</td>\n",
       "      <td>0</td>\n",
       "      <td>0</td>\n",
       "      <td>1</td>\n",
       "      <td>1</td>\n",
       "      <td>1</td>\n",
       "      <td>0</td>\n",
       "    </tr>\n",
       "    <tr>\n",
       "      <th>2</th>\n",
       "      <td>0</td>\n",
       "      <td>1</td>\n",
       "      <td>1</td>\n",
       "      <td>1</td>\n",
       "      <td>0</td>\n",
       "      <td>1</td>\n",
       "      <td>2</td>\n",
       "      <td>0</td>\n",
       "      <td>1</td>\n",
       "      <td>0</td>\n",
       "      <td>0</td>\n",
       "      <td>0</td>\n",
       "      <td>1</td>\n",
       "      <td>0</td>\n",
       "      <td>1</td>\n",
       "    </tr>\n",
       "  </tbody>\n",
       "</table>\n",
       "</div>"
      ],
      "text/plain": [
       "   an  analysis  and  are  coding  crucial  data  essential  for  fun  \\\n",
       "0   0         0    1    0       1        0     2          0    0    1   \n",
       "1   1         0    0    0       1        0     1          1    1    0   \n",
       "2   0         1    1    1       0        1     2          0    1    0   \n",
       "\n",
       "   involves  is  science  skill  statistics  \n",
       "0         1   1        2      0           1  \n",
       "1         0   1        1      1           0  \n",
       "2         0   0        1      0           1  "
      ]
     },
     "execution_count": 17,
     "metadata": {},
     "output_type": "execute_result"
    }
   ],
   "source": [
    "encoded_data"
   ]
  },
  {
   "cell_type": "code",
   "execution_count": 18,
   "id": "87061801",
   "metadata": {},
   "outputs": [],
   "source": [
    "doc = pd.DataFrame(document)"
   ]
  },
  {
   "cell_type": "code",
   "execution_count": 19,
   "id": "6fe9563f",
   "metadata": {},
   "outputs": [
    {
     "data": {
      "text/html": [
       "<div>\n",
       "<style scoped>\n",
       "    .dataframe tbody tr th:only-of-type {\n",
       "        vertical-align: middle;\n",
       "    }\n",
       "\n",
       "    .dataframe tbody tr th {\n",
       "        vertical-align: top;\n",
       "    }\n",
       "\n",
       "    .dataframe thead th {\n",
       "        text-align: right;\n",
       "    }\n",
       "</style>\n",
       "<table border=\"1\" class=\"dataframe\">\n",
       "  <thead>\n",
       "    <tr style=\"text-align: right;\">\n",
       "      <th></th>\n",
       "      <th>0</th>\n",
       "    </tr>\n",
       "  </thead>\n",
       "  <tbody>\n",
       "    <tr>\n",
       "      <th>0</th>\n",
       "      <td>Data science is fun. Data science involves sta...</td>\n",
       "    </tr>\n",
       "    <tr>\n",
       "      <th>1</th>\n",
       "      <td>Coding is an essential skill for data science.</td>\n",
       "    </tr>\n",
       "    <tr>\n",
       "      <th>2</th>\n",
       "      <td>Statistics and data analysis are crucial for d...</td>\n",
       "    </tr>\n",
       "  </tbody>\n",
       "</table>\n",
       "</div>"
      ],
      "text/plain": [
       "                                                   0\n",
       "0  Data science is fun. Data science involves sta...\n",
       "1     Coding is an essential skill for data science.\n",
       "2  Statistics and data analysis are crucial for d..."
      ]
     },
     "execution_count": 19,
     "metadata": {},
     "output_type": "execute_result"
    }
   ],
   "source": [
    "doc"
   ]
  },
  {
   "cell_type": "code",
   "execution_count": 20,
   "id": "d173fb6b",
   "metadata": {},
   "outputs": [],
   "source": [
    "encoded_data.index = [f\"Document {i+1}\" for i in range(len(documents))]"
   ]
  },
  {
   "cell_type": "code",
   "execution_count": 21,
   "id": "6e595d7e",
   "metadata": {},
   "outputs": [
    {
     "data": {
      "text/html": [
       "<div>\n",
       "<style scoped>\n",
       "    .dataframe tbody tr th:only-of-type {\n",
       "        vertical-align: middle;\n",
       "    }\n",
       "\n",
       "    .dataframe tbody tr th {\n",
       "        vertical-align: top;\n",
       "    }\n",
       "\n",
       "    .dataframe thead th {\n",
       "        text-align: right;\n",
       "    }\n",
       "</style>\n",
       "<table border=\"1\" class=\"dataframe\">\n",
       "  <thead>\n",
       "    <tr style=\"text-align: right;\">\n",
       "      <th></th>\n",
       "      <th>an</th>\n",
       "      <th>analysis</th>\n",
       "      <th>and</th>\n",
       "      <th>are</th>\n",
       "      <th>coding</th>\n",
       "      <th>crucial</th>\n",
       "      <th>data</th>\n",
       "      <th>essential</th>\n",
       "      <th>for</th>\n",
       "      <th>fun</th>\n",
       "      <th>involves</th>\n",
       "      <th>is</th>\n",
       "      <th>science</th>\n",
       "      <th>skill</th>\n",
       "      <th>statistics</th>\n",
       "    </tr>\n",
       "  </thead>\n",
       "  <tbody>\n",
       "    <tr>\n",
       "      <th>Document 1</th>\n",
       "      <td>0</td>\n",
       "      <td>0</td>\n",
       "      <td>1</td>\n",
       "      <td>0</td>\n",
       "      <td>1</td>\n",
       "      <td>0</td>\n",
       "      <td>2</td>\n",
       "      <td>0</td>\n",
       "      <td>0</td>\n",
       "      <td>1</td>\n",
       "      <td>1</td>\n",
       "      <td>1</td>\n",
       "      <td>2</td>\n",
       "      <td>0</td>\n",
       "      <td>1</td>\n",
       "    </tr>\n",
       "    <tr>\n",
       "      <th>Document 2</th>\n",
       "      <td>1</td>\n",
       "      <td>0</td>\n",
       "      <td>0</td>\n",
       "      <td>0</td>\n",
       "      <td>1</td>\n",
       "      <td>0</td>\n",
       "      <td>1</td>\n",
       "      <td>1</td>\n",
       "      <td>1</td>\n",
       "      <td>0</td>\n",
       "      <td>0</td>\n",
       "      <td>1</td>\n",
       "      <td>1</td>\n",
       "      <td>1</td>\n",
       "      <td>0</td>\n",
       "    </tr>\n",
       "    <tr>\n",
       "      <th>Document 3</th>\n",
       "      <td>0</td>\n",
       "      <td>1</td>\n",
       "      <td>1</td>\n",
       "      <td>1</td>\n",
       "      <td>0</td>\n",
       "      <td>1</td>\n",
       "      <td>2</td>\n",
       "      <td>0</td>\n",
       "      <td>1</td>\n",
       "      <td>0</td>\n",
       "      <td>0</td>\n",
       "      <td>0</td>\n",
       "      <td>1</td>\n",
       "      <td>0</td>\n",
       "      <td>1</td>\n",
       "    </tr>\n",
       "  </tbody>\n",
       "</table>\n",
       "</div>"
      ],
      "text/plain": [
       "            an  analysis  and  are  coding  crucial  data  essential  for  \\\n",
       "Document 1   0         0    1    0       1        0     2          0    0   \n",
       "Document 2   1         0    0    0       1        0     1          1    1   \n",
       "Document 3   0         1    1    1       0        1     2          0    1   \n",
       "\n",
       "            fun  involves  is  science  skill  statistics  \n",
       "Document 1    1         1   1        2      0           1  \n",
       "Document 2    0         0   1        1      1           0  \n",
       "Document 3    0         0   0        1      0           1  "
      ]
     },
     "execution_count": 21,
     "metadata": {},
     "output_type": "execute_result"
    }
   ],
   "source": [
    "encoded_data"
   ]
  },
  {
   "cell_type": "code",
   "execution_count": 22,
   "id": "21478da0",
   "metadata": {},
   "outputs": [
    {
     "name": "stdout",
     "output_type": "stream",
     "text": [
      "data       2\n",
      "science    2\n",
      "Name: Document 1, dtype: int64\n",
      "No word appears more than once.\n",
      "data    2\n",
      "Name: Document 3, dtype: int64\n"
     ]
    }
   ],
   "source": [
    "for i, d in enumerate(encoded_data.index):\n",
    "    repeated_words = encoded_data.loc[d][encoded_data.loc[d] > 1]    \n",
    "    if not repeated_words.empty:\n",
    "        print(repeated_words)\n",
    "    else:\n",
    "        print(\"No word appears more than once.\")"
   ]
  },
  {
   "cell_type": "code",
   "execution_count": 23,
   "id": "885e98a0",
   "metadata": {},
   "outputs": [],
   "source": [
    "total_word_counts = encoded_data.sum(axis=0)"
   ]
  },
  {
   "cell_type": "code",
   "execution_count": 24,
   "id": "10b77f61",
   "metadata": {},
   "outputs": [],
   "source": [
    "repeated_across_docs = pd.DataFrame(total_word_counts[total_word_counts > 1], columns=['Count']).sort_values(by='Count', ascending=False)"
   ]
  },
  {
   "cell_type": "code",
   "execution_count": 25,
   "id": "68bb452d",
   "metadata": {},
   "outputs": [
    {
     "data": {
      "text/html": [
       "<div>\n",
       "<style scoped>\n",
       "    .dataframe tbody tr th:only-of-type {\n",
       "        vertical-align: middle;\n",
       "    }\n",
       "\n",
       "    .dataframe tbody tr th {\n",
       "        vertical-align: top;\n",
       "    }\n",
       "\n",
       "    .dataframe thead th {\n",
       "        text-align: right;\n",
       "    }\n",
       "</style>\n",
       "<table border=\"1\" class=\"dataframe\">\n",
       "  <thead>\n",
       "    <tr style=\"text-align: right;\">\n",
       "      <th></th>\n",
       "      <th>Count</th>\n",
       "    </tr>\n",
       "  </thead>\n",
       "  <tbody>\n",
       "    <tr>\n",
       "      <th>data</th>\n",
       "      <td>5</td>\n",
       "    </tr>\n",
       "    <tr>\n",
       "      <th>science</th>\n",
       "      <td>4</td>\n",
       "    </tr>\n",
       "    <tr>\n",
       "      <th>and</th>\n",
       "      <td>2</td>\n",
       "    </tr>\n",
       "    <tr>\n",
       "      <th>coding</th>\n",
       "      <td>2</td>\n",
       "    </tr>\n",
       "    <tr>\n",
       "      <th>for</th>\n",
       "      <td>2</td>\n",
       "    </tr>\n",
       "    <tr>\n",
       "      <th>is</th>\n",
       "      <td>2</td>\n",
       "    </tr>\n",
       "    <tr>\n",
       "      <th>statistics</th>\n",
       "      <td>2</td>\n",
       "    </tr>\n",
       "  </tbody>\n",
       "</table>\n",
       "</div>"
      ],
      "text/plain": [
       "            Count\n",
       "data            5\n",
       "science         4\n",
       "and             2\n",
       "coding          2\n",
       "for             2\n",
       "is              2\n",
       "statistics      2"
      ]
     },
     "execution_count": 25,
     "metadata": {},
     "output_type": "execute_result"
    }
   ],
   "source": [
    "repeated_across_docs"
   ]
  },
  {
   "cell_type": "code",
   "execution_count": 26,
   "id": "6b785118",
   "metadata": {},
   "outputs": [],
   "source": [
    "# Done"
   ]
  }
 ],
 "metadata": {
  "kernelspec": {
   "display_name": "Python 3 (ipykernel)",
   "language": "python",
   "name": "python3"
  },
  "language_info": {
   "codemirror_mode": {
    "name": "ipython",
    "version": 3
   },
   "file_extension": ".py",
   "mimetype": "text/x-python",
   "name": "python",
   "nbconvert_exporter": "python",
   "pygments_lexer": "ipython3",
   "version": "3.9.13"
  }
 },
 "nbformat": 4,
 "nbformat_minor": 5
}
