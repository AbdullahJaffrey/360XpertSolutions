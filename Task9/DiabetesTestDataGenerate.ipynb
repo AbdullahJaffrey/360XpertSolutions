{
 "cells": [
  {
   "cell_type": "code",
   "execution_count": 1,
   "id": "54181387",
   "metadata": {},
   "outputs": [],
   "source": [
    "import numpy as np"
   ]
  },
  {
   "cell_type": "code",
   "execution_count": 2,
   "id": "dca1beb1",
   "metadata": {},
   "outputs": [],
   "source": [
    "import pandas as pd"
   ]
  },
  {
   "cell_type": "code",
   "execution_count": 10,
   "id": "1e2ff1cd",
   "metadata": {},
   "outputs": [],
   "source": [
    "df = pd.DataFrame()"
   ]
  },
  {
   "cell_type": "code",
   "execution_count": 11,
   "id": "7cb90f1e",
   "metadata": {},
   "outputs": [
    {
     "data": {
      "text/html": [
       "<div>\n",
       "<style scoped>\n",
       "    .dataframe tbody tr th:only-of-type {\n",
       "        vertical-align: middle;\n",
       "    }\n",
       "\n",
       "    .dataframe tbody tr th {\n",
       "        vertical-align: top;\n",
       "    }\n",
       "\n",
       "    .dataframe thead th {\n",
       "        text-align: right;\n",
       "    }\n",
       "</style>\n",
       "<table border=\"1\" class=\"dataframe\">\n",
       "  <thead>\n",
       "    <tr style=\"text-align: right;\">\n",
       "      <th></th>\n",
       "    </tr>\n",
       "  </thead>\n",
       "  <tbody>\n",
       "  </tbody>\n",
       "</table>\n",
       "</div>"
      ],
      "text/plain": [
       "Empty DataFrame\n",
       "Columns: []\n",
       "Index: []"
      ]
     },
     "execution_count": 11,
     "metadata": {},
     "output_type": "execute_result"
    }
   ],
   "source": [
    "df.head(5)"
   ]
  },
  {
   "cell_type": "code",
   "execution_count": 12,
   "id": "c27f1a78",
   "metadata": {},
   "outputs": [],
   "source": [
    "dataset_max_size = 10000"
   ]
  },
  {
   "cell_type": "code",
   "execution_count": 14,
   "id": "eee71876",
   "metadata": {},
   "outputs": [],
   "source": [
    "df['Age(Y)'] = np.random.randint(0,100, dataset_max_size)"
   ]
  },
  {
   "cell_type": "code",
   "execution_count": 15,
   "id": "cda24c86",
   "metadata": {},
   "outputs": [],
   "source": [
    "df['BMI(kg/m2)'] = np.random.uniform(0, 70, dataset_max_size)"
   ]
  },
  {
   "cell_type": "code",
   "execution_count": 16,
   "id": "d02bce46",
   "metadata": {},
   "outputs": [
    {
     "data": {
      "text/html": [
       "<div>\n",
       "<style scoped>\n",
       "    .dataframe tbody tr th:only-of-type {\n",
       "        vertical-align: middle;\n",
       "    }\n",
       "\n",
       "    .dataframe tbody tr th {\n",
       "        vertical-align: top;\n",
       "    }\n",
       "\n",
       "    .dataframe thead th {\n",
       "        text-align: right;\n",
       "    }\n",
       "</style>\n",
       "<table border=\"1\" class=\"dataframe\">\n",
       "  <thead>\n",
       "    <tr style=\"text-align: right;\">\n",
       "      <th></th>\n",
       "      <th>Patient Id</th>\n",
       "      <th>Age(Y)</th>\n",
       "      <th>BMI(kg/m2)</th>\n",
       "    </tr>\n",
       "  </thead>\n",
       "  <tbody>\n",
       "    <tr>\n",
       "      <th>0</th>\n",
       "      <td>0</td>\n",
       "      <td>35</td>\n",
       "      <td>13.607351</td>\n",
       "    </tr>\n",
       "    <tr>\n",
       "      <th>1</th>\n",
       "      <td>1</td>\n",
       "      <td>45</td>\n",
       "      <td>57.625245</td>\n",
       "    </tr>\n",
       "    <tr>\n",
       "      <th>2</th>\n",
       "      <td>2</td>\n",
       "      <td>59</td>\n",
       "      <td>44.026644</td>\n",
       "    </tr>\n",
       "    <tr>\n",
       "      <th>3</th>\n",
       "      <td>3</td>\n",
       "      <td>75</td>\n",
       "      <td>28.316513</td>\n",
       "    </tr>\n",
       "    <tr>\n",
       "      <th>4</th>\n",
       "      <td>4</td>\n",
       "      <td>96</td>\n",
       "      <td>24.288323</td>\n",
       "    </tr>\n",
       "    <tr>\n",
       "      <th>...</th>\n",
       "      <td>...</td>\n",
       "      <td>...</td>\n",
       "      <td>...</td>\n",
       "    </tr>\n",
       "    <tr>\n",
       "      <th>9995</th>\n",
       "      <td>9995</td>\n",
       "      <td>66</td>\n",
       "      <td>6.019387</td>\n",
       "    </tr>\n",
       "    <tr>\n",
       "      <th>9996</th>\n",
       "      <td>9996</td>\n",
       "      <td>99</td>\n",
       "      <td>60.148801</td>\n",
       "    </tr>\n",
       "    <tr>\n",
       "      <th>9997</th>\n",
       "      <td>9997</td>\n",
       "      <td>26</td>\n",
       "      <td>32.365615</td>\n",
       "    </tr>\n",
       "    <tr>\n",
       "      <th>9998</th>\n",
       "      <td>9998</td>\n",
       "      <td>79</td>\n",
       "      <td>52.420981</td>\n",
       "    </tr>\n",
       "    <tr>\n",
       "      <th>9999</th>\n",
       "      <td>9999</td>\n",
       "      <td>93</td>\n",
       "      <td>32.451921</td>\n",
       "    </tr>\n",
       "  </tbody>\n",
       "</table>\n",
       "<p>10000 rows × 3 columns</p>\n",
       "</div>"
      ],
      "text/plain": [
       "      Patient Id  Age(Y)  BMI(kg/m2)\n",
       "0              0      35   13.607351\n",
       "1              1      45   57.625245\n",
       "2              2      59   44.026644\n",
       "3              3      75   28.316513\n",
       "4              4      96   24.288323\n",
       "...          ...     ...         ...\n",
       "9995        9995      66    6.019387\n",
       "9996        9996      99   60.148801\n",
       "9997        9997      26   32.365615\n",
       "9998        9998      79   52.420981\n",
       "9999        9999      93   32.451921\n",
       "\n",
       "[10000 rows x 3 columns]"
      ]
     },
     "execution_count": 16,
     "metadata": {},
     "output_type": "execute_result"
    }
   ],
   "source": [
    "df"
   ]
  },
  {
   "cell_type": "code",
   "execution_count": null,
   "id": "1e0392f2",
   "metadata": {},
   "outputs": [],
   "source": [
    "df['BMIStatus'] = df['BMI(kg/m2)'].apply(lambda x: \"Under-weight\" if x <= 18.5 else \"Normal\" if x >= 18.5 and x <= 24.9 else \"Over-weight\" if x >= 25 and x <= 29.9 else \"Moderate-Obese\" if x >=30 and x <= 34.9 else \"Severely-Obese\" if x>= 35 and x < 39.9 else \"Morbidly-Obese\")"
   ]
  },
  {
   "cell_type": "code",
   "execution_count": null,
   "id": "24e2a7b6",
   "metadata": {},
   "outputs": [],
   "source": [
    "# 0 => Male and 1 => Female"
   ]
  },
  {
   "cell_type": "code",
   "execution_count": null,
   "id": "481dc113",
   "metadata": {},
   "outputs": [],
   "source": [
    "df['Gender'] = np.random.choice([0, 1], size=dataset_max_size, p=[0.6, 0.4])"
   ]
  },
  {
   "cell_type": "code",
   "execution_count": null,
   "id": "763a8dac",
   "metadata": {},
   "outputs": [],
   "source": [
    "df.head(5)"
   ]
  },
  {
   "cell_type": "code",
   "execution_count": null,
   "id": "fe74dc4b",
   "metadata": {},
   "outputs": [],
   "source": [
    "df['HbA1c(%)'] =  np.random.uniform(0, 15, dataset_max_size)"
   ]
  },
  {
   "cell_type": "code",
   "execution_count": null,
   "id": "f433f788",
   "metadata": {},
   "outputs": [],
   "source": [
    "df['HbA1cStatus'] = df['HbA1c(%)'].apply(lambda x: \"Non-diabetes\" if x<5.7 else \"Prediabetes\" if x >= 5.7 and x <= 6.4 else \"Diabetes\" )"
   ]
  },
  {
   "cell_type": "code",
   "execution_count": null,
   "id": "ef1117b4",
   "metadata": {},
   "outputs": [],
   "source": [
    "df.sample(5)"
   ]
  },
  {
   "cell_type": "code",
   "execution_count": null,
   "id": "0994fbfc",
   "metadata": {},
   "outputs": [],
   "source": [
    "# 0 => No Alzheimer's and 1 => Alzheimer's detected"
   ]
  },
  {
   "cell_type": "code",
   "execution_count": null,
   "id": "a6d2950e",
   "metadata": {},
   "outputs": [],
   "source": [
    "df[\"Alzheimer's\"] = np.random.choice([0, 1], size=dataset_max_size, p=[0.92, 0.08])"
   ]
  },
  {
   "cell_type": "code",
   "execution_count": null,
   "id": "e2984870",
   "metadata": {},
   "outputs": [],
   "source": [
    "df"
   ]
  },
  {
   "cell_type": "code",
   "execution_count": null,
   "id": "7e8556f8",
   "metadata": {},
   "outputs": [],
   "source": [
    "# 0 => Non Smokers and 1 => Smokers"
   ]
  },
  {
   "cell_type": "code",
   "execution_count": null,
   "id": "9e1d0be8",
   "metadata": {},
   "outputs": [],
   "source": [
    "df[\"Smoking\"] = np.random.choice([0, 1], size=dataset_max_size, p=[0.50, 0.50])"
   ]
  },
  {
   "cell_type": "code",
   "execution_count": null,
   "id": "72011bc5",
   "metadata": {},
   "outputs": [],
   "source": [
    "df['Cholestrol(mg/dL)'] = np.random.randint(150,300, dataset_max_size)"
   ]
  },
  {
   "cell_type": "code",
   "execution_count": null,
   "id": "5db6b0dd",
   "metadata": {},
   "outputs": [],
   "source": [
    "df['HDLCholestrol(mg/dL)'] = np.random.randint(40,100, dataset_max_size)"
   ]
  },
  {
   "cell_type": "code",
   "execution_count": null,
   "id": "2df47e3f",
   "metadata": {},
   "outputs": [],
   "source": [
    "df['LDLCholestrol(mg/dL)'] = np.random.randint(50,250, dataset_max_size)"
   ]
  },
  {
   "cell_type": "code",
   "execution_count": null,
   "id": "6abe9934",
   "metadata": {},
   "outputs": [],
   "source": [
    "df.head(5)"
   ]
  },
  {
   "cell_type": "code",
   "execution_count": null,
   "id": "3c955d45",
   "metadata": {},
   "outputs": [],
   "source": [
    "df['CholestrolStatus'] = df['Cholestrol(mg/dL)'].apply(lambda x: \"Heart-Healthy\" if x < 200 else 'At-Risk' if x >= 200 and x < 240 else \"Dangerous\")"
   ]
  },
  {
   "cell_type": "code",
   "execution_count": null,
   "id": "cf3860a1",
   "metadata": {},
   "outputs": [],
   "source": [
    "df['LDLCholestrolStatus'] = df['LDLCholestrol(mg/dL)'].apply(lambda x: \"Heart-Healthy\" if x < 100 else 'At-Risk' if x >= 100 and x < 160 else \"Dangerous\")"
   ]
  },
  {
   "cell_type": "code",
   "execution_count": null,
   "id": "2c256ddc",
   "metadata": {},
   "outputs": [],
   "source": [
    "def hdlcholestrol(row):\n",
    "    hdl = row['HDLCholestrol(mg/dL)']\n",
    "    gender = row['Gender']\n",
    "    \n",
    "    if gender == 0:\n",
    "        if hdl >= 40 and hdl <60:\n",
    "            return \"At-Risk\"\n",
    "        elif hdl < 40:\n",
    "            return \"Dangerous\"\n",
    "        else:\n",
    "            return \"Heart-Healthy\"\n",
    "    else:\n",
    "        if hdl >= 50 and hdl <60:\n",
    "            return \"At-Risk\"\n",
    "        elif hdl < 50:\n",
    "            return \"Dangerous\"\n",
    "        else:\n",
    "            return \"Heart-Healthy\""
   ]
  },
  {
   "cell_type": "code",
   "execution_count": null,
   "id": "5183c2bc",
   "metadata": {},
   "outputs": [],
   "source": [
    "df['HDLCholestrolStatus'] = df.apply(hdlcholestrol, axis=1)"
   ]
  },
  {
   "cell_type": "code",
   "execution_count": null,
   "id": "249f72fb",
   "metadata": {
    "scrolled": true
   },
   "outputs": [],
   "source": [
    "df[:15]"
   ]
  },
  {
   "cell_type": "code",
   "execution_count": null,
   "id": "b79bb1e9",
   "metadata": {},
   "outputs": [],
   "source": [
    "df['RandomGlucose(mg/dL)'] = np.random.uniform(70, 400, dataset_max_size)"
   ]
  },
  {
   "cell_type": "code",
   "execution_count": null,
   "id": "342f380b",
   "metadata": {},
   "outputs": [],
   "source": [
    "df['SugarBloodLevel'] = df['RandomGlucose(mg/dL)'].apply(lambda x: \"Fasting\" if x >= 70 and x < 100 else \"Impaired-Tolerance\" if x >= 100 and x < 140 else \"Pre-Diabetes\" if x >= 140 and x < 200 else \"Diabetes\")"
   ]
  },
  {
   "cell_type": "code",
   "execution_count": null,
   "id": "ea31cfb1",
   "metadata": {},
   "outputs": [],
   "source": [
    "df.head()"
   ]
  },
  {
   "cell_type": "code",
   "execution_count": null,
   "id": "ebf09d31",
   "metadata": {},
   "outputs": [],
   "source": [
    "df['DiabetesType'] = df.apply(lambda row: 'Type 1' if row['HbA1c(%)'] > 10 or row['RandomGlucose(mg/dL)'] > 200 else ('Type 2' if row['HbA1c(%)'] > 6.5 else 'None'), axis=1)"
   ]
  },
  {
   "cell_type": "code",
   "execution_count": null,
   "id": "9de74ff4",
   "metadata": {},
   "outputs": [],
   "source": [
    "# 1 => 'Yes' and 0 => 'No'"
   ]
  },
  {
   "cell_type": "code",
   "execution_count": null,
   "id": "f14db345",
   "metadata": {},
   "outputs": [],
   "source": [
    "df['InsulinUsage'] = df['DiabetesType'].apply(lambda x: 1 if x == 'Type 1' else 0)"
   ]
  },
  {
   "cell_type": "code",
   "execution_count": null,
   "id": "47eb04b8",
   "metadata": {},
   "outputs": [],
   "source": [
    "df['Hypertension'] = df['CholestrolStatus'].apply(lambda x: 1 if x in ['Dangerous', 'At-Risk'] else 0)"
   ]
  },
  {
   "cell_type": "code",
   "execution_count": null,
   "id": "17afd801",
   "metadata": {},
   "outputs": [],
   "source": [
    "df = df.sample(frac = 1)"
   ]
  },
  {
   "cell_type": "code",
   "execution_count": null,
   "id": "77c67775",
   "metadata": {},
   "outputs": [],
   "source": [
    "df.shape"
   ]
  },
  {
   "cell_type": "code",
   "execution_count": null,
   "id": "54e6f0ca",
   "metadata": {},
   "outputs": [],
   "source": [
    "df.to_csv('DiabetesTestData.csv', index=False)"
   ]
  },
  {
   "cell_type": "code",
   "execution_count": null,
   "id": "dcf13bcd",
   "metadata": {},
   "outputs": [],
   "source": [
    "df[:100].to_csv('DiabetesTestData100.csv', index=False)"
   ]
  }
 ],
 "metadata": {
  "kernelspec": {
   "display_name": "Python 3 (ipykernel)",
   "language": "python",
   "name": "python3"
  },
  "language_info": {
   "codemirror_mode": {
    "name": "ipython",
    "version": 3
   },
   "file_extension": ".py",
   "mimetype": "text/x-python",
   "name": "python",
   "nbconvert_exporter": "python",
   "pygments_lexer": "ipython3",
   "version": "3.9.13"
  }
 },
 "nbformat": 4,
 "nbformat_minor": 5
}
